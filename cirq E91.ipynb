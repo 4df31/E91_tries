{
 "cells": [
  {
   "cell_type": "code",
   "execution_count": 1,
   "metadata": {},
   "outputs": [],
   "source": [
    "from cirq import *\n",
    "from numpy import pi\n",
    "import numpy as np\n",
    "from numpy.random import randint as rnd\n",
    "from multiprocessing import Pool as pool\n",
    "from os import cpu_count as ncpu\n",
    "from matplotlib import pyplot as plt\n",
    "from tqdm import tqdm\n",
    "from scipy.optimize import curve_fit\n"
   ]
  },
  {
   "cell_type": "code",
   "execution_count": 2,
   "metadata": {},
   "outputs": [],
   "source": [
    "def parallel_cycle(set,func):\n",
    "    with pool(ncpu()) as p:\n",
    "        out = p.map(func,set)\n",
    "    return out"
   ]
  },
  {
   "cell_type": "code",
   "execution_count": 26,
   "metadata": {},
   "outputs": [],
   "source": [
    "def rotation_gate(theta):\n",
    "    return np.array([[np.cos(theta/2),-np.sin(theta/2)],[np.sin(theta/2),np.cos(theta/2)]])\n",
    "\n",
    "\n",
    "def singlet_creator(phase:float):\n",
    "    a_direction = rnd(0,3)\n",
    "    b_direction = rnd(1,4)\n",
    "    a, b = LineQubit.range(2)\n",
    "    \n",
    "    circuit = Circuit(X(a),X(b),\\\n",
    "          H(a),\\\n",
    "          ZPowGate(exponent=phase/pi,global_shift=0).on(a),\\\n",
    "          CX(a,b),\\\n",
    "          MatrixGate(rotation_gate(a_direction*pi/4)).on(a),\\\n",
    "          MatrixGate(rotation_gate(b_direction*pi/4)).on(b),\\\n",
    "          measure(a,key=\"Alice\"), measure(b,key=\"Bob\"))\n",
    "    return circuit ,a_direction,b_direction"
   ]
  },
  {
   "cell_type": "code",
   "execution_count": 39,
   "metadata": {},
   "outputs": [
    {
     "data": {
      "text/plain": [
       "(                        ┌             ┐\n",
       "0: ───X───H───Z^0───@───│ 0.707 -0.707│───M('Alice')───\n",
       "                    │   │ 0.707  0.707│\n",
       "                    │   └             ┘\n",
       "                    │\n",
       "                    │   ┌             ┐\n",
       "1: ───X─────────────X───│ 0.924 -0.383│───M('Bob')─────\n",
       "                        │ 0.383  0.924│\n",
       "                        └             ┘,\n",
       " 2,\n",
       " 1)"
      ]
     },
     "execution_count": 39,
     "metadata": {},
     "output_type": "execute_result"
    }
   ],
   "source": [
    "singlet_creator(phase=0)"
   ]
  },
  {
   "cell_type": "code",
   "execution_count": 4,
   "metadata": {},
   "outputs": [],
   "source": [
    "def circuit_list_maker(n_states:int,phase:float):\n",
    "    theta = [phase for k in range(n_states)]\n",
    "    circuit_list = parallel_cycle(theta,singlet_creator)\n",
    "    del theta\n",
    "    return circuit_list"
   ]
  },
  {
   "cell_type": "code",
   "execution_count": 5,
   "metadata": {},
   "outputs": [],
   "source": [
    "\n",
    "\n",
    "def simulation(circuit):\n",
    "    simulator = Simulator()\n",
    "    return simulator.run(circuit)\n",
    "\n",
    "def probability_anticorrelation(measurement_information:list,n_states:int):\n",
    "    N_coincident_basis = 0\n",
    "    N_anticorrelations = 0\n",
    "    \n",
    "    for k in range(n_states):\n",
    "        if measurement_information[k][0] == measurement_information[k][1]:\n",
    "            N_coincident_basis +=1\n",
    "            if int(bool(measurement_information[k][2])) == int(not bool(measurement_information[k][3])):\n",
    "                N_anticorrelations +=1\n",
    "            else:\n",
    "                pass\n",
    "        else:\n",
    "            pass\n",
    "    return N_anticorrelations/N_coincident_basis\n",
    "#--------------------------------------------------------------------\n",
    "\n",
    "def local_run(n_states:int,n_execs:int):\n",
    "    phase_list = np.linspace(0,2*pi,n_execs)\n",
    "    probability_list = list()\n",
    "    for k in tqdm(range(n_execs),desc=\"Execution\"):\n",
    "        circuit_list = circuit_list_maker(n_states=n_states,phase=phase_list[k])\n",
    "        circuits = [circuit_list[k][0] for k in range(n_states)]\n",
    "        measurement_information = [[circuit_list[k][1],circuit_list[k][2],0,0] for k in range(n_states) ]\n",
    "        del circuit_list\n",
    "        \n",
    "        with pool(ncpu()) as p:\n",
    "            result_list = p.map(simulation,circuits)\n",
    "        for k in range(n_states):\n",
    "            measurement_information[k][2] = result_list[k].data.iloc[0,0]\n",
    "            measurement_information[k][3] = result_list[k].data.iloc[0,1]\n",
    "        del result_list\n",
    "        probability_list.append(probability_anticorrelation(measurement_information=measurement_information,n_states=n_states))\n",
    "    return phase_list,probability_list\n",
    "        "
   ]
  },
  {
   "cell_type": "code",
   "execution_count": 6,
   "metadata": {},
   "outputs": [
    {
     "name": "stderr",
     "output_type": "stream",
     "text": [
      "<>:13: SyntaxWarning: invalid escape sequence '\\c'\n",
      "<>:13: SyntaxWarning: invalid escape sequence '\\c'\n",
      "/tmp/ipykernel_11883/3536425032.py:13: SyntaxWarning: invalid escape sequence '\\c'\n",
      "  formula = f\"Fit -> $P(\\\\theta) = {popt[0]:1.4f} \\cos( {popt[1]:1.4f} \\\\theta + {popt[2]:1.4e} ) + {popt[3]:1.4f} $\"\n"
     ]
    }
   ],
   "source": [
    "def func_fit(x,A:float,w:float,d:float,b:float):\n",
    "    return A * np.cos(w*x + d) + b\n",
    "\n",
    "def r2(y_exp,y_fit):\n",
    "    Dy = y_exp - y_fit\n",
    "    Dy2_sum = np.sum(Dy**2)\n",
    "    tot_sum = np.sum((y_exp-np.mean(y_exp))**2)\n",
    "    return 1. - (Dy2_sum/tot_sum)\n",
    "\n",
    "def fit(theta:list,fidelity:list):\n",
    "    popt, pcov = curve_fit(func_fit,theta,fidelity)\n",
    "    r_squared_fit = r2(func_fit(theta,*popt),func_fit(theta,0.25,1.,0.,5/12))\n",
    "    formula = f\"Fit -> $P(\\\\theta) = {popt[0]:1.4f} \\cos( {popt[1]:1.4f} \\\\theta + {popt[2]:1.4e} ) + {popt[3]:1.4f} $\"\n",
    "    print(formula)\n",
    "    print(f\"R^2 = {r_squared_fit}\")\n",
    "    return popt\n",
    "\n",
    "\n",
    "def plots(theta:list,fidelity,popt:list):\n",
    "    plt.plot(theta,fidelity,'.r',label=\"exp data\")\n",
    "    plt.plot(theta,func_fit(theta,*popt),'--k', label=\"fit\")\n",
    "    plt.plot(theta,func_fit(theta,0.25,1.,0.,5/12),'-b',label=\"theoretical\")\n",
    "\n",
    "    plt.legend(loc=\"lower left\")\n",
    "    plt.show()"
   ]
  },
  {
   "cell_type": "code",
   "execution_count": 7,
   "metadata": {},
   "outputs": [
    {
     "name": "stderr",
     "output_type": "stream",
     "text": [
      "Execution: 100%|██████████| 20/20 [01:04<00:00,  3.22s/it]\n"
     ]
    }
   ],
   "source": [
    "m = np.array(local_run(n_states=int(1e4/5),n_execs=20))\n",
    "theta = m[0,:]\n",
    "probability = m[1,:]\n",
    "\n"
   ]
  },
  {
   "cell_type": "code",
   "execution_count": 8,
   "metadata": {},
   "outputs": [
    {
     "name": "stdout",
     "output_type": "stream",
     "text": [
      "Fit -> $P(\\theta) = 0.2539 \\cos( 1.0017 \\theta + -6.2605e-03 ) + 0.7484 $\n",
      "R^2 = -2.274524201137654\n"
     ]
    },
    {
     "data": {
      "image/png": "[encoded data removed]",
      "text/plain": [
       "<Figure size 640x480 with 1 Axes>"
      ]
     },
     "metadata": {},
     "output_type": "display_data"
    }
   ],
   "source": [
    "popt = fit(theta,probability)\n",
    "plots(theta,probability,popt)"
   ]
  },
  {
   "cell_type": "code",
   "execution_count": null,
   "metadata": {},
   "outputs": [],
   "source": []
  }
 ],
 "metadata": {
  "kernelspec": {
   "display_name": "cirq",
   "language": "python",
   "name": "python3"
  },
  "language_info": {
   "codemirror_mode": {
    "name": "ipython",
    "version": 3
   },
   "file_extension": ".py",
   "mimetype": "text/x-python",
   "name": "python",
   "nbconvert_exporter": "python",
   "pygments_lexer": "ipython3",
   "version": "3.12.2"
  }
 },
 "nbformat": 4,
 "nbformat_minor": 2
}
