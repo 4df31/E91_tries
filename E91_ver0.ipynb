{
 "cells": [
  {
   "cell_type": "code",
   "execution_count": 1,
   "metadata": {
    "id": "lY7uKijJA2UX"
   },
   "outputs": [],
   "source": [
    "#! pip install qiskit-aer numpy matplotlib scipy pylatexenc\n",
    "#! pip install qiskit-ibm-runtime"
   ]
  },
  {
   "cell_type": "code",
   "execution_count": 2,
   "metadata": {
    "id": "s9wHu0eYA_T8"
   },
   "outputs": [
    {
     "name": "stderr",
     "output_type": "stream",
     "text": [
      "/usr/lib/python3/dist-packages/pkg_resources/__init__.py:116: PkgResourcesDeprecationWarning: 1.1build1 is an invalid version and will not be supported in a future release\n",
      "  warnings.warn(\n",
      "/usr/lib/python3/dist-packages/pkg_resources/__init__.py:116: PkgResourcesDeprecationWarning: 0.1.43ubuntu1 is an invalid version and will not be supported in a future release\n",
      "  warnings.warn(\n"
     ]
    }
   ],
   "source": [
    "from matplotlib import pyplot as plt\n",
    "import numpy as np\n",
    "from qiskit_aer import AerSimulator\n",
    "from numpy.random import randint as rnd\n",
    "from scipy.optimize import curve_fit\n",
    "from multiprocessing import Pool\n",
    "\n",
    "from qiskit import QuantumCircuit as QC\n",
    "from qiskit import *\n",
    "from qiskit_ibm_runtime import QiskitRuntimeService as QRS\n",
    "from qiskit_ibm_runtime import Session, Sampler\n",
    "from os import cpu_count\n",
    "from tqdm import tqdm\n",
    "from datetime import datetime\n",
    "from pylatexenc import *\n"
   ]
  },
  {
   "cell_type": "markdown",
   "metadata": {
    "id": "vsRa8Km6BlB_"
   },
   "source": [
    "#Circuit functions\n"
   ]
  },
  {
   "cell_type": "code",
   "execution_count": 3,
   "metadata": {
    "id": "jPjTzfM-BN2j"
   },
   "outputs": [],
   "source": [
    "def basis(q:QuantumCircuit):\n",
    "    direction_a = rnd(0,3)\n",
    "    direction_b = rnd(1,4)\n",
    "    q.barrier()\n",
    "    q.u(direction_a*np.pi/4,0,0,0)\n",
    "    q.u(direction_b*np.pi/4,0,0,1)\n",
    "    q.barrier()\n",
    "    q.measure(0,0)\n",
    "    q.measure(1,1)\n",
    "    return [q,int(direction_a+1),int(direction_b)]\n",
    "\n",
    "def singlet_maker(phase:float):\n",
    "    q = QC(2,2)\n",
    "    q.x(0)\n",
    "    q.x(1)\n",
    "    q.h(0)\n",
    "    q.p(phase,0)\n",
    "    q.cx(0,1)\n",
    "    info_vector = basis(q)\n",
    "    q.compose(info_vector[0])\n",
    "    return [q,info_vector[1],info_vector[2]]\n",
    "\n",
    "def circuit_list_maker(n_states:int,phase:float):\n",
    "    theta = [phase for k in range(n_states)]\n",
    "    with Pool(cpu_count()) as p:\n",
    "        circ_list_info = p.map(singlet_maker,theta)\n",
    "    return circ_list_info\n",
    "\n",
    "def circuit_info_selector(circ_info_part_list:list):\n",
    "    circuits = list()\n",
    "    for k in range(len(circ_info_part_list)):\n",
    "        circuits.append(circ_info_part_list[k][0])\n",
    "    return circuits\n",
    "\n",
    "def exec_basis_selector(circ_info_part_list:list):\n",
    "    info_vector = list()\n",
    "    for k in range(len(circ_info_part_list)):\n",
    "        info_vector.append(circ_info_part_list[k][1:3])\n",
    "    return info_vector"
   ]
  },
  {
   "cell_type": "markdown",
   "metadata": {
    "id": "nM4sujjABnS9"
   },
   "source": [
    "# Post exec functions"
   ]
  },
  {
   "cell_type": "code",
   "execution_count": 4,
   "metadata": {
    "id": "wCIOD0lbBm7z"
   },
   "outputs": [],
   "source": [
    "def info_vector_maker(n_states:int):\n",
    "    return [[int(0) for l in range(4)] for k in range(n_states)]\n",
    "\n",
    "def info_vector_basis_fill(basis_vector:list,info_vector:list):\n",
    "    for k in range(len(basis_vector)):\n",
    "        info_vector[k][0]=basis_vector[k][0]\n",
    "        info_vector[k][1]=basis_vector[k][1]\n",
    "    return info_vector\n",
    "\n",
    "def result_key_session(result_info):\n",
    "    result_bin = [result_info.quasi_dists[l].binary_probabilities(2) for l in range(len(result_info.quasi_dists))]\n",
    "    result_vector = list()\n",
    "    for k in range(len(result_bin)):\n",
    "        result_vector.append(*result_bin[k])\n",
    "    return result_vector\n",
    "\n",
    "def result_key_local(result_info:list):\n",
    "    result_vector = list()\n",
    "    for k in range(len(result_info)):\n",
    "        result = result_info[k]\n",
    "        result_vector.append(*result)\n",
    "    return result_vector\n",
    "\n",
    "def result_processing(result_vector:list,info_vector:list):\n",
    "    for k in range(len(result_vector)):\n",
    "        if result_vector[k]=='11':\n",
    "            info_vector[k][2]=1\n",
    "            info_vector[k][3]=1\n",
    "        elif result_vector[k]=='01':\n",
    "            info_vector[k][3]=1\n",
    "        elif result_vector[k]=='10':\n",
    "            info_vector[k][2]=1            \n",
    "        elif result_vector[k]=='00':\n",
    "            pass\n",
    "    return info_vector"
   ]
  },
  {
   "cell_type": "markdown",
   "metadata": {
    "id": "eqw7qvlMBxT7"
   },
   "source": [
    "#Classical computing part"
   ]
  },
  {
   "cell_type": "code",
   "execution_count": 5,
   "metadata": {
    "id": "3dfNu7goBwKo"
   },
   "outputs": [],
   "source": [
    "def correlation_factor(info_vector:list):\n",
    "    N = len(info_vector)\n",
    "    basis_a = [info_vector[k][0] for k in range(N)]\n",
    "    basis_b = [info_vector[k][1] for k in range(N)]\n",
    "    bit_a = [info_vector[k][2] for k in range(N)]\n",
    "    bit_b = [info_vector[k][3] for k in range(N)]\n",
    "\n",
    "    E = {'E11':0, 'E12':0, 'E13':0, 'E21':0, 'E22':0, 'E23':0, 'E31':0, 'E32':0,'E33':0}\n",
    "    measure_conversion = {0:-1,1:1}\n",
    "    N_corr =0\n",
    "    fidelity = 0\n",
    "    for k in range(len(info_vector)):\n",
    "\n",
    "        if basis_a[k] != basis_b[k]:\n",
    "            corr_name = \"E\"+str(basis_a[k])+str(basis_b[k])\n",
    "            if (measure_conversion[bit_a[k]]*measure_conversion[bit_b[k]]) == 1 :\n",
    "                E[corr_name] += 1/N\n",
    "            if (measure_conversion[bit_a[k]]*measure_conversion[bit_b[k]]) == -1:\n",
    "                E[corr_name] += -1/N\n",
    "\n",
    "        else:\n",
    "            N_corr +=1\n",
    "            if int(bool(bit_a[k])) == int(not bool(bit_b[k])):\n",
    "                fidelity += 1\n",
    "            else:\n",
    "                pass\n",
    "    fidelity = fidelity/N_corr\n",
    "    return [E,fidelity]\n",
    "\n",
    "def save_info_to_csv(theta:list,fidelity:list,backend_name,time_str):\n",
    "    file_name = f\"data_{backend_name}_{time_str}.csv\"\n",
    "    np.savetxt(file_name,[[theta[k],fidelity[k]]for k in range(len(fidelity))],delimiter=\",\")\n"
   ]
  },
  {
   "cell_type": "markdown",
   "metadata": {
    "id": "JepTTr_3B1uO"
   },
   "source": [
    "# Analysis functions"
   ]
  },
  {
   "cell_type": "code",
   "execution_count": 12,
   "metadata": {
    "id": "OTQuMlHoB0x2"
   },
   "outputs": [],
   "source": [
    "def func_fit(x,A:float,w:float,d:float,b:float):\n",
    "    return A * np.cos(w*x + d) + b\n",
    "\n",
    "def r2(y_exp,y_fit):\n",
    "    Dy = y_exp - y_fit\n",
    "    Dy2_sum = np.sum(Dy**2)\n",
    "    tot_sum = np.sum((y_exp-np.mean(y_exp))**2)\n",
    "    return 1. - (Dy2_sum/tot_sum)\n",
    "\n",
    "def fit(theta:list,fidelity:list):\n",
    "    popt, pcov = curve_fit(func_fit,theta,fidelity)\n",
    "    r_squared_fit = r2(func_fit(theta,*popt),func_fit(theta,0.25,1.,0.,0.75))\n",
    "    formula = f\"Fit -> $P(\\\\theta) = {popt[0]:1.4f} \\cos( {popt[1]:1.4f} \\\\theta + {popt[2]:1.4e} ) + {popt[3]:1.4f} $\"\n",
    "    print(formula)\n",
    "    print(f\"R^2 = {r_squared_fit}\")\n",
    "    return popt,formula\n",
    "\n",
    "\n",
    "def plots(theta:list,fidelity,popt:list):\n",
    "    fit = popt[0]\n",
    "    plt.plot(theta,fidelity,'.r',label=\"exp data\")\n",
    "    plt.plot(theta,func_fit(theta,*fit),'--k', label=\"fit\")\n",
    "    plt.plot(theta,func_fit(theta,0.25,1.,0.,0.75),'-b',label=\"theoretical\")\n",
    "    plt.title(popt[1])\n",
    "    plt.legend(loc=\"lower left\")\n",
    "    plt.show()\n"
   ]
  },
  {
   "cell_type": "markdown",
   "metadata": {
    "id": "eaUI2-H9B9O_",
    "jp-MarkdownHeadingCollapsed": true
   },
   "source": [
    "# Run type\n",
    "## IBM"
   ]
  },
  {
   "cell_type": "code",
   "execution_count": 7,
   "metadata": {
    "id": "2PyK8Kt8B4_e"
   },
   "outputs": [],
   "source": [
    "def circcuit_list_maker():\n",
    "    circ_list = list()\n",
    "    circuits_info = circuit_list_maker(n_states=n_states,phase=theta[k])\n",
    "    circuits = circuit_info_selector(circuits_info)"
   ]
  },
  {
   "cell_type": "code",
   "execution_count": 8,
   "metadata": {
    "id": "s-4zH01MCAOY"
   },
   "outputs": [],
   "source": [
    "def join_info(fidelity_list:list):\n",
    "    n_parts = len (fidelity_list)\n",
    "    n_elements = len (fidelity_list[0])\n",
    "    fidelity = list()\n",
    "    for l in range(n_parts):\n",
    "        for k in range(n_elements):\n",
    "            fidelity.append(fidelity_list[l][k])\n",
    "    return fidelity"
   ]
  },
  {
   "cell_type": "code",
   "execution_count": 9,
   "metadata": {
    "id": "N9kgIALfCE5J"
   },
   "outputs": [],
   "source": [
    "def run_session(n_states:int,n_execs:int,n_parts:int,theta:list):\n",
    "    fidelity_list = list()\n",
    "\n",
    "    # conection with ibmq\n",
    "\n",
    "    print(\"Connecting with IBMQ ...\")\n",
    "    service = QRS()\n",
    "    print(\"Connected\\n\")\n",
    "\n",
    "    #backend = service.get_backend('ibmq_qasm_simulator')\n",
    "    backend = service.get_backend('ibmq_quito')\n",
    "    print(f\"Backend used: {backend.name}\\n\")\n",
    "\n",
    "    sampler = Sampler(backend=backend)\n",
    "    sampler.set_options(shots=1)\n",
    "\n",
    "    # session creation\n",
    "    now = datetime.now().strftime(\"%d_%m_%Y_%H_%M\")\n",
    "    print(f\"Session opened at {now}\")\n",
    "\n",
    "\n",
    "    with Session(service=service,backend=backend) as session:\n",
    "        n_elements = int(len(theta)/n_parts)\n",
    "        for l in range(n_parts):\n",
    "\n",
    "            print(f\"run {l+1}\")\n",
    "            theta_part = [theta[n_elements*l+k] for k in range(n_elements)]\n",
    "\n",
    "            circuits_info = [circuit_list_maker(n_states=n_states,phase=theta_part[k]) for k in range(n_elements)]\n",
    "            print(\"circuits created\")\n",
    "            circuits = [circuit_info_selector(circuits_info[k]) for k in range(n_elements)]\n",
    "            basis_vector = [exec_basis_selector(circuits_info[k])for k in range(n_elements)]\n",
    "            circuits_info = list()\n",
    "\n",
    "            measurement_information = [info_vector_maker(n_states) for k in range(n_elements)]\n",
    "            measurement_information = [info_vector_basis_fill(basis_vector[k],measurement_information[k])for k in range(n_elements)]\n",
    "\n",
    "            # Quasi-Probability calculation\n",
    "            job_list = [sampler.run(circuits[k]) for k in range(n_elements)]\n",
    "            print(\"jobs done\")\n",
    "            result = [job_list[k].result() for k in range(n_elements)]\n",
    "            print(\"extracting results ...\")\n",
    "            result_vector = [result_key_session(result[k]) for k in range(n_elements)]\n",
    "            print(\"done\")\n",
    "\n",
    "            measurement_information = [result_processing(result_vector[k],measurement_information[k])for k in range(n_elements)]\n",
    "            fidelity=[correlation_factor(measurement_information[k])[1] for k in range(n_elements)]\n",
    "            fidelity_list.append(fidelity)\n",
    "            save_info_to_csv(theta,fidelity,backend.name,time_str=now)\n",
    "\n",
    "        session.close()\n",
    "    print(\"Session closed\")\n",
    "\n",
    "    return join_info(fidelity_list)"
   ]
  },
  {
   "cell_type": "markdown",
   "metadata": {
    "id": "qabyGZFTCGfz"
   },
   "source": [
    "## Local"
   ]
  },
  {
   "cell_type": "code",
   "execution_count": 10,
   "metadata": {
    "id": "RG2CTDdcCFXH"
   },
   "outputs": [],
   "source": [
    "def local_simulation_run(circ:QuantumCircuit):\n",
    "    simulator = AerSimulator()\n",
    "    circ = transpile(circ, simulator)\n",
    "    result = simulator.run(circ,shots=1).result()\n",
    "    return result.get_counts()\n",
    "\n",
    "def run_local(n_states:int,n_execs:int,theta:list):\n",
    "    fidelity = list()\n",
    "    measurement_information_vector = list()\n",
    "    print(f\"Backend used: aer_simulator\\n\")\n",
    "    now = datetime.now().strftime(\"%d_%m_%Y_%H_%M\")\n",
    "    for k in tqdm(range(n_execs),desc=\"Execution\"):\n",
    "        circuits_info = circuit_list_maker(n_states=n_states,phase=theta[k])\n",
    "        circuits = circuit_info_selector(circuits_info)\n",
    "        basis_vector = exec_basis_selector(circuits_info)\n",
    "        del circuits_info ############################################\n",
    "        measurement_information = info_vector_maker(n_states)\n",
    "        measurement_information = info_vector_basis_fill(basis_vector,measurement_information)\n",
    "        del basis_vector\n",
    "        # Quasi-Probability calculation\n",
    "        with Pool(cpu_count()) as p:\n",
    "            result = p.map(local_simulation_run,circuits)\n",
    "        result_vector = result_key_local(result)\n",
    "        del result\n",
    "        measurement_information = result_processing(result_vector,measurement_information)\n",
    "        del result_vector\n",
    "        fidelity.append(correlation_factor(measurement_information)[1])\n",
    "        #measurement_information_vector.append(measurement_information)\n",
    "        #fidelity.append(encoding_key(measurement_information))\n",
    "        save_info_to_csv(theta,fidelity,\"aer_simulator\",time_str=now)\n",
    "        \n",
    "        del measurement_information\n",
    "\n",
    "    return fidelity"
   ]
  },
  {
   "cell_type": "markdown",
   "metadata": {
    "id": "7mfh3XzQCQLn"
   },
   "source": [
    "# Main"
   ]
  },
  {
   "cell_type": "code",
   "execution_count": 11,
   "metadata": {
    "colab": {
     "base_uri": "https://localhost:8080/",
     "height": 527
    },
    "editable": true,
    "id": "1naJ3am5CIY4",
    "outputId": "935bbccd-14dc-4748-a028-c1cb7c3cba72",
    "slideshow": {
     "slide_type": ""
    },
    "tags": []
   },
   "outputs": [
    {
     "name": "stdout",
     "output_type": "stream",
     "text": [
      "This Simulation\n",
      "Number of executions varying phase =10000\n",
      "Backend used: aer_simulator\n",
      "\n"
     ]
    },
    {
     "name": "stderr",
     "output_type": "stream",
     "text": [
      "Execution: 100%|██████████████████████████████| 100/100 [12:24<00:00,  7.44s/it]"
     ]
    },
    {
     "name": "stdout",
     "output_type": "stream",
     "text": [
      "Fit -> $P(\\theta) = 0.2446 \\cos( 0.9937 \\theta + 1.4855e-02 ) + 0.6121 $\n",
      "R^2 = 0.3511632637981712\n"
     ]
    },
    {
     "name": "stderr",
     "output_type": "stream",
     "text": [
      "\n"
     ]
    },
    {
     "data": {
      "image/png": "[encoded data removed]",
      "text/plain": [
       "<Figure size 640x480 with 1 Axes>"
      ]
     },
     "metadata": {},
     "output_type": "display_data"
    }
   ],
   "source": [
    "if __name__==\"__main__\":\n",
    "\n",
    "    # execution options\n",
    "\n",
    "    n_states = int(1e4)\n",
    "    n_execs = int(1e2)\n",
    "    n_parts = 6\n",
    "\n",
    "    theta = np.linspace(0,2*np.pi,n_execs)\n",
    "\n",
    "    print(f\"This Simulation\\nNumber of executions varying phase ={n_states}\")\n",
    "    # on ibm-quantum\n",
    "    #fidelity = run_session(n_states,n_execs,n_parts,theta)\n",
    "\n",
    "    # on local host\n",
    "    fidelity = run_local(n_states,n_execs,theta)\n",
    "\n",
    "    popt = fit(theta,fidelity)\n",
    "    plots(theta,fidelity,popt)\n"
   ]
  },
  {
   "cell_type": "code",
   "execution_count": null,
   "metadata": {},
   "outputs": [],
   "source": []
  }
 ],
 "metadata": {
  "colab": {
   "provenance": []
  },
  "kernelspec": {
   "display_name": "Python 3 (ipykernel)",
   "language": "python",
   "name": "python3"
  },
  "language_info": {
   "codemirror_mode": {
    "name": "ipython",
    "version": 3
   },
   "file_extension": ".py",
   "mimetype": "text/x-python",
   "name": "python",
   "nbconvert_exporter": "python",
   "pygments_lexer": "ipython3",
   "version": "3.10.12"
  }
 },
 "nbformat": 4,
 "nbformat_minor": 4
}
