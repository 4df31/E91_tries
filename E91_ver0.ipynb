{
 "cells": [
  {
   "cell_type": "markdown",
   "id": "1c64c5c2-1ab8-41cf-9600-a474ac3cdf67",
   "metadata": {
    "tags": []
   },
   "source": [
    "# Libraries"
   ]
  },
  {
   "cell_type": "code",
   "execution_count": 1,
   "id": "595c43ae-af15-47c8-8e86-c9139a2aae25",
   "metadata": {},
   "outputs": [],
   "source": [
    "from matplotlib import pyplot as plt\n",
    "import numpy as np\n",
    "from numpy.random import randint as rnd\n",
    "from numpy.random import choice\n",
    "from scipy.optimize import curve_fit\n",
    "from multiprocessing import Pool\n",
    "from qiskit import QuantumCircuit as QC\n",
    "from qiskit import *\n",
    "from qiskit_aer import AerSimulator\n",
    "#from qiskit_ibm_runtime import QiskitRuntimeService as QRS\n",
    "#from qiskit_ibm_runtime import Session, Sampler\n",
    "from os import cpu_count\n",
    "from tqdm import tqdm\n",
    "from datetime import datetime\n",
    "from pylatexenc import *\n",
    "from qiskit.quantum_info import Statevector"
   ]
  },
  {
   "cell_type": "markdown",
   "id": "2becdfa7-2831-41c4-a54e-aaaeb3ec9aa5",
   "metadata": {
    "tags": []
   },
   "source": [
    "# Circuit functions"
   ]
  },
  {
   "cell_type": "code",
   "execution_count": 2,
   "id": "66146069-e4fe-4720-9914-02c2f24e6104",
   "metadata": {},
   "outputs": [],
   "source": [
    "def basis(q:QuantumCircuit):\n",
    "    bit_a = choice(np.array([0,1,2]))\n",
    "    bit_b = choice(np.array([1,2,3]))\n",
    "    #bit_a = rnd(0,3)\n",
    "    #bit_b = rnd(1,4)\n",
    "    q.barrier()\n",
    "    q.ry(bit_a*np.pi/4,0)\n",
    "    q.ry(bit_b*np.pi/4,1)\n",
    "    q.barrier()\n",
    "    q.measure(0,0)\n",
    "    q.measure(1,1)\n",
    "    return [q,int(bit_a),int(bit_b)]\n",
    "\n",
    "def singlet_maker(phase:float):\n",
    "    q = QC(2,2)\n",
    "    q.x(0)\n",
    "    q.x(1)\n",
    "    q.h(0)\n",
    "    q.p(phase,0)\n",
    "    q.cx(0,1)\n",
    "    info_vector = basis(q)\n",
    "    q.compose(info_vector[0])\n",
    "    return [q,info_vector[1],info_vector[2]]\n",
    "\n",
    "def circuit_list_maker(n_states:int,phase:float):   \n",
    "    theta = [phase for k in range(n_states)]\n",
    "    with Pool(cpu_count()) as p:\n",
    "        circ_list_info = p.map(singlet_maker,theta)\n",
    "    return circ_list_info\n",
    "\n",
    "def circuit_info_selector(circ_info_part_list:list):\n",
    "    circuits = list()\n",
    "    for k in range(len(circ_info_part_list)):\n",
    "        circuits.append(circ_info_part_list[k][0])\n",
    "    return circuits\n",
    "\n",
    "def exec_basis_selector(circ_info_part_list:list):\n",
    "    info_vector = list()\n",
    "    for k in range(len(circ_info_part_list)):\n",
    "        info_vector.append(circ_info_part_list[k][1:3])\n",
    "    return info_vector"
   ]
  },
  {
   "cell_type": "code",
   "execution_count": 3,
   "id": "3a9c5e62",
   "metadata": {},
   "outputs": [
    {
     "data": {
      "text/html": [
       "<pre style=\"word-wrap: normal;white-space: pre;background: #fff0;line-height: 1.1;font-family: &quot;Courier New&quot;,Courier,monospace\">     ┌───┐┌───┐┌──────┐      ░ ┌─────────┐ ░ ┌─┐   \n",
       "q_0: ┤ X ├┤ H ├┤ P(0) ├──■───░─┤ Ry(π/4) ├─░─┤M├───\n",
       "     ├───┤└───┘└──────┘┌─┴─┐ ░ ├─────────┤ ░ └╥┘┌─┐\n",
       "q_1: ┤ X ├─────────────┤ X ├─░─┤ Ry(π/2) ├─░──╫─┤M├\n",
       "     └───┘             └───┘ ░ └─────────┘ ░  ║ └╥┘\n",
       "c: 2/═════════════════════════════════════════╩══╩═\n",
       "                                              0  1 </pre>"
      ],
      "text/plain": [
       "     ┌───┐┌───┐┌──────┐      ░ ┌─────────┐ ░ ┌─┐   \n",
       "q_0: ┤ X ├┤ H ├┤ P(0) ├──■───░─┤ Ry(π/4) ├─░─┤M├───\n",
       "     ├───┤└───┘└──────┘┌─┴─┐ ░ ├─────────┤ ░ └╥┘┌─┐\n",
       "q_1: ┤ X ├─────────────┤ X ├─░─┤ Ry(π/2) ├─░──╫─┤M├\n",
       "     └───┘             └───┘ ░ └─────────┘ ░  ║ └╥┘\n",
       "c: 2/═════════════════════════════════════════╩══╩═\n",
       "                                              0  1 "
      ]
     },
     "metadata": {},
     "output_type": "display_data"
    },
    {
     "name": "stdout",
     "output_type": "stream",
     "text": [
      "[1, 2]\n"
     ]
    }
   ],
   "source": [
    "c = singlet_maker(0)\n",
    "circ = c[0]\n",
    "display(circ.draw())\n",
    "#display(Statevector(circ).draw(output='latex'))\n",
    "print(c[1:3])"
   ]
  },
  {
   "cell_type": "markdown",
   "id": "33c8ed10-d2e4-4d48-a139-73b7d63298c1",
   "metadata": {
    "tags": []
   },
   "source": [
    "# Post execution functions"
   ]
  },
  {
   "cell_type": "code",
   "execution_count": 4,
   "id": "2b55b9c9-ac36-42d3-96ef-e9739d308f91",
   "metadata": {},
   "outputs": [],
   "source": [
    "def info_vector_maker(n_states:int):\n",
    "    return [[int(0) for l in range(4)] for k in range(n_states)]\n",
    "\n",
    "def info_vector_basis_fill(basis_vector:list,info_vector:list):\n",
    "    for k in range(len(basis_vector)):\n",
    "        info_vector[k][0]=basis_vector[k][0]\n",
    "        info_vector[k][1]=basis_vector[k][1]\n",
    "    return info_vector\n",
    "\n",
    "def result_key_session(result_info):\n",
    "    result_bin = [result_info.quasi_dists[l].binary_probabilities(2) for l in range(len(result_info.quasi_dists))]\n",
    "    result_vector = list()\n",
    "    for k in range(len(result_bin)):\n",
    "        result_vector.append(*result_bin[k])\n",
    "    return result_vector\n",
    "\n",
    "def result_key_local(result_info:list):\n",
    "    result_vector = list()\n",
    "    for k in range(len(result_info)):\n",
    "        result = result_info[k]\n",
    "        result_vector.append(*result)\n",
    "    return result_vector\n",
    "    \n",
    "def result_processing(result_vector:list,info_vector:list):\n",
    "    for k in range(len(result_vector)):\n",
    "        if result_vector[k]=='11':\n",
    "            info_vector[k][2]=1\n",
    "            info_vector[k][3]=1\n",
    "        elif result_vector[k]=='01':\n",
    "            info_vector[k][3]=1\n",
    "        elif result_vector[k]=='10':\n",
    "            info_vector[k][2]=1\n",
    "        elif result_vector[k]=='00':\n",
    "            pass\n",
    "    return info_vector "
   ]
  },
  {
   "cell_type": "markdown",
   "id": "dad6a9ac-3925-42de-8eeb-e3add927db97",
   "metadata": {
    "tags": []
   },
   "source": [
    "# classical computing part"
   ]
  },
  {
   "cell_type": "code",
   "execution_count": 5,
   "id": "f6c64b77-4afa-4aea-b95b-af94df4373d6",
   "metadata": {},
   "outputs": [],
   "source": [
    "def anticorrelation_factor(info_vector:list):\n",
    "    n_basis_equal = 0\n",
    "    n_anticorrelation = 0\n",
    "    basis_a = [info_vector[k][0] for k in range(len(info_vector))]\n",
    "    basis_b = [info_vector[k][1] for k in range(len(info_vector))]\n",
    "    bit_a = [info_vector[k][2] for k in range(len(info_vector))]\n",
    "    bit_b = [info_vector[k][3] for k in range(len(info_vector))]\n",
    "    for k in range(len(info_vector)):\n",
    "        if basis_a[k]==basis_b[k]:\n",
    "            n_basis_equal += 1\n",
    "            if bit_a[k]!=bit_b[k]:\n",
    "                n_anticorrelation += 1\n",
    "            else:\n",
    "                pass\n",
    "        else:\n",
    "            pass\n",
    "    return n_anticorrelation/n_basis_equal\n",
    "\n",
    "def encoding_key(m):\n",
    "    n_basis_equal = 0\n",
    "    n_anticorrelation = 0\n",
    "    for k in range(len(m)):\n",
    "        if m[k][0]==m[k][1]:\n",
    "            # verifica que  las bases sean las mismas\n",
    "            n_basis_equal = n_basis_equal + 1\n",
    "            if m[k][2]==int(not(bool(m[k][3]))):\n",
    "                # verifica que haya anticorrelación\n",
    "                n_anticorrelation =  n_anticorrelation + 1\n",
    "            else:\n",
    "                pass\n",
    "        else:\n",
    "            pass\n",
    "    fidelity = n_anticorrelation/n_basis_equal\n",
    "    return fidelity\n",
    "\n",
    "def save_info_to_csv(theta:list,fidelity:list,backend_name,time_str):\n",
    "    file_name = f\"data_{backend_name}_{time_str}.csv\"\n",
    "    np.savetxt(file_name,[[theta[k],fidelity[k]]for k in range(len(fidelity))],delimiter=\",\")\n"
   ]
  },
  {
   "cell_type": "markdown",
   "id": "6f63a942-1fb3-4acf-a0d8-138bb487724d",
   "metadata": {
    "tags": []
   },
   "source": [
    "# Analysis functions"
   ]
  },
  {
   "cell_type": "code",
   "execution_count": 6,
   "id": "8cfcb055-8bd8-49c2-8e66-68751f2dc059",
   "metadata": {},
   "outputs": [
    {
     "name": "stderr",
     "output_type": "stream",
     "text": [
      "<>:13: SyntaxWarning: invalid escape sequence '\\c'\n",
      "<>:13: SyntaxWarning: invalid escape sequence '\\c'\n",
      "/tmp/ipykernel_65288/3446218809.py:13: SyntaxWarning: invalid escape sequence '\\c'\n",
      "  formula = f\"Fit -> $P(\\\\theta) = {popt[0]:1.4f} \\cos( {popt[1]:1.4f} \\\\theta + {popt[2]:1.4e} ) + {popt[3]:1.4f} $\"\n"
     ]
    }
   ],
   "source": [
    "def func_fit(x,A:float,w:float,d:float,b:float):\n",
    "    return A * np.cos(w*x + d) + b\n",
    "\n",
    "def r2(y_exp,y_fit):\n",
    "    Dy = y_exp - y_fit\n",
    "    Dy2_sum = np.sum(Dy**2)\n",
    "    tot_sum = np.sum((y_exp-np.mean(y_exp))**2)\n",
    "    return 1. - (Dy2_sum/tot_sum)\n",
    "\n",
    "def fit(theta:list,fidelity:list):\n",
    "    popt, pcov = curve_fit(func_fit,theta,fidelity)\n",
    "    r_squared_fit = r2(func_fit(theta,*popt),func_fit(theta,0.25,1.,0.,0.75))\n",
    "    formula = f\"Fit -> $P(\\\\theta) = {popt[0]:1.4f} \\cos( {popt[1]:1.4f} \\\\theta + {popt[2]:1.4e} ) + {popt[3]:1.4f} $\"\n",
    "    print(formula)\n",
    "    print(f\"R^2 = {r_squared_fit}\")\n",
    "    return popt\n",
    "\n",
    "\n",
    "def plots(theta:list,fidelity,popt:list):\n",
    "    plt.plot(theta,fidelity,'.r',label=\"exp data\")\n",
    "    plt.plot(theta,func_fit(theta,*popt),'--k', label=\"fit\")\n",
    "    plt.plot(theta,func_fit(theta,0.25,1.,0.,0.75),'-b',label=\"theoretical\")\n",
    "\n",
    "    plt.legend(loc=\"lower left\")\n",
    "    plt.show()\n"
   ]
  },
  {
   "cell_type": "markdown",
   "id": "93198785-04d9-46e4-a041-5a3ee3c9f215",
   "metadata": {
    "tags": []
   },
   "source": [
    "# Execution type"
   ]
  },
  {
   "cell_type": "markdown",
   "id": "e2f5d07f-64a8-41e6-96c5-d2236d496b56",
   "metadata": {
    "tags": []
   },
   "source": [
    "## IBMQ"
   ]
  },
  {
   "cell_type": "code",
   "execution_count": 7,
   "id": "9422146b-c05c-47d4-ac0a-743f75d54af2",
   "metadata": {},
   "outputs": [],
   "source": [
    "def circcuit_list_maker():\n",
    "    circ_list = list()\n",
    "    circuits_info = circuit_list_maker(n_states=n_states,phase=theta[k])\n",
    "    circuits = circuit_info_selector(circuits_info)"
   ]
  },
  {
   "cell_type": "code",
   "execution_count": 8,
   "id": "8fa024fc-fb36-410d-ab7d-24a7219d8a63",
   "metadata": {},
   "outputs": [],
   "source": [
    "def join_info(fidelity_list:list):\n",
    "    n_parts = len (fidelity_list)\n",
    "    n_elements = len (fidelity_list[0])\n",
    "    fidelity = list()\n",
    "    for l in range(n_parts):\n",
    "        for k in range(n_elements):\n",
    "            fidelity.append(fidelity_list[l][k])\n",
    "    return fidelity"
   ]
  },
  {
   "cell_type": "code",
   "execution_count": 9,
   "id": "8eeceb48-5c70-4520-876c-4ebd37c4fea0",
   "metadata": {},
   "outputs": [],
   "source": [
    "def run_session(n_states:int,n_execs:int,n_parts:int,theta:list):\n",
    "    fidelity_list = list()\n",
    "\n",
    "    # conection with ibmq\n",
    "\n",
    "    print(\"Connecting with IBMQ ...\")\n",
    "    service = QRS()\n",
    "    print(\"Connected\\n\")\n",
    "\n",
    "    #backend = service.get_backend('ibmq_qasm_simulator')\n",
    "    backend = service.get_backend('ibmq_quito')\n",
    "    print(f\"Backend used: {backend.name}\\n\")\n",
    "\n",
    "    sampler = Sampler(backend=backend)\n",
    "    sampler.set_options(shots=1)\n",
    "\n",
    "    # session creation\n",
    "    now = datetime.now().strftime(\"%d_%m_%Y_%H_%M\")\n",
    "    print(f\"Session opened at {now}\")\n",
    "\n",
    "    \n",
    "    with Session(service=service,backend=backend) as session:\n",
    "        n_elements = int(len(theta)/n_parts)\n",
    "        for l in range(n_parts):\n",
    "            \n",
    "            print(f\"run {l+1}\")\n",
    "            theta_part = [theta[n_elements*l+k] for k in range(n_elements)]\n",
    "            \n",
    "            circuits_info = [circuit_list_maker(n_states=n_states,phase=theta_part[k]) for k in range(n_elements)]\n",
    "            print(\"circuits created\")\n",
    "            circuits = [circuit_info_selector(circuits_info[k]) for k in range(n_elements)]\n",
    "            basis_vector = [exec_basis_selector(circuits_info[k])for k in range(n_elements)]\n",
    "            circuits_info = list()\n",
    "            \n",
    "            measurement_information = [info_vector_maker(n_states) for k in range(n_elements)]\n",
    "            measurement_information = [info_vector_basis_fill(basis_vector[k],measurement_information[k])for k in range(n_elements)]\n",
    "            \n",
    "            # Quasi-Probability calculation\n",
    "            job_list = [sampler.run(circuits[k]) for k in range(n_elements)]\n",
    "            print(\"jobs done\")\n",
    "            result = [job_list[k].result() for k in range(n_elements)]\n",
    "            print(\"extracting results ...\")\n",
    "            result_vector = [result_key_session(result[k]) for k in range(n_elements)]\n",
    "            print(\"done\")\n",
    "            \n",
    "            measurement_information = [result_processing(result_vector[k],measurement_information[k])for k in range(n_elements)]\n",
    "            fidelity=[anticorrelation_factor(measurement_information[k])for k in range(n_elements)]\n",
    "            fidelity_list.append(fidelity)\n",
    "            save_info_to_csv(theta,fidelity,backend.name,time_str=now)\n",
    "        \n",
    "        session.close()\n",
    "    print(\"Session closed\")\n",
    "    \n",
    "    return join_info(fidelity_list)"
   ]
  },
  {
   "cell_type": "markdown",
   "id": "3a92a44d-d1a0-4b2d-a132-219533c01c39",
   "metadata": {
    "tags": []
   },
   "source": [
    "## Local"
   ]
  },
  {
   "cell_type": "code",
   "execution_count": 10,
   "id": "59a45853-0484-4ad6-92e9-84b6b15c7ce3",
   "metadata": {},
   "outputs": [],
   "source": [
    "def local_simulation_run(circ:QuantumCircuit):\n",
    "    simulator = AerSimulator()\n",
    "    circ = transpile(circ, simulator)\n",
    "    result = simulator.run(circ,shots=1).result()\n",
    "    return result.get_counts()\n",
    "\n",
    "def run_local(n_states:int,n_execs:int,theta:list):\n",
    "    fidelity = list()\n",
    "    measurement_information_vector = list()\n",
    "    print(f\"Backend used: aer_simulator\\n\")\n",
    "    now = datetime.now().strftime(\"%d_%m_%Y_%H_%M\")\n",
    "    for k in tqdm(range(n_execs),desc=\"Execution\"):\n",
    "        circuits_info = circuit_list_maker(n_states=n_states,phase=theta[k])\n",
    "        circuits = circuit_info_selector(circuits_info)\n",
    "        basis_vector = exec_basis_selector(circuits_info)\n",
    "        measurement_information = info_vector_maker(n_states)\n",
    "        measurement_information = info_vector_basis_fill(basis_vector,measurement_information)\n",
    "        # Quasi-Probability calculation\n",
    "        with Pool(cpu_count()) as p:\n",
    "            result = p.map(local_simulation_run,circuits)\n",
    "        result_vector = result_key_local(result)\n",
    "        measurement_information = result_processing(result_vector,measurement_information)\n",
    "        fidelity.append(anticorrelation_factor(measurement_information))\n",
    "        measurement_information_vector.append(measurement_information)\n",
    "        #fidelity.append(encoding_key(measurement_information))\n",
    "        save_info_to_csv(theta,fidelity,\"aer_simulator\",time_str=now)\n",
    "        \n",
    "    return fidelity"
   ]
  },
  {
   "cell_type": "markdown",
   "id": "c1085664-b356-4073-b333-7ed22166a13c",
   "metadata": {},
   "source": [
    "# Main\n"
   ]
  },
  {
   "cell_type": "code",
   "execution_count": 11,
   "id": "50840ee7-f17c-4460-8636-8822ef350f2e",
   "metadata": {},
   "outputs": [
    {
     "name": "stdout",
     "output_type": "stream",
     "text": [
      "Backend used: aer_simulator\n",
      "\n"
     ]
    },
    {
     "name": "stderr",
     "output_type": "stream",
     "text": [
      "Execution:   0%|          | 0/20 [00:00<?, ?it/s]"
     ]
    },
    {
     "name": "stderr",
     "output_type": "stream",
     "text": [
      "Execution: 100%|██████████| 20/20 [12:45<00:00, 38.29s/it]"
     ]
    },
    {
     "name": "stdout",
     "output_type": "stream",
     "text": [
      "Fit -> $P(\\theta) = 0.3646 \\cos( 0.9954 \\theta + 1.0612e-02 ) + 0.6355 $\n",
      "R^2 = 0.725864656650757\n"
     ]
    },
    {
     "name": "stderr",
     "output_type": "stream",
     "text": [
      "\n"
     ]
    },
    {
     "data": {
      "image/png": "[encoded data removed]",
      "text/plain": [
       "<Figure size 640x480 with 1 Axes>"
      ]
     },
     "metadata": {},
     "output_type": "display_data"
    }
   ],
   "source": [
    "if __name__==\"__main__\":\n",
    "\n",
    "    # execution options\n",
    "\n",
    "    n_states = int(3e4)\n",
    "    n_execs = int(1e2/5)\n",
    "    n_parts = 6\n",
    "    \n",
    "    theta = np.linspace(0,2*np.pi,n_execs)\n",
    "\n",
    "    # on ibm-quantum\n",
    "    #fidelity = run_session(n_states,n_execs,n_parts,theta)\n",
    "\n",
    "    # on local host\n",
    "    fidelity = run_local(n_states,n_execs,theta)\n",
    "    \n",
    "    popt = fit(theta,fidelity)\n",
    "    plots(theta,fidelity,popt)\n",
    "    "
   ]
  },
  {
   "cell_type": "code",
   "execution_count": null,
   "id": "0b741916",
   "metadata": {},
   "outputs": [],
   "source": []
  }
 ],
 "metadata": {
  "kernelspec": {
   "display_name": "Python 3 (ipykernel)",
   "language": "python",
   "name": "python3"
  },
  "language_info": {
   "codemirror_mode": {
    "name": "ipython",
    "version": 3
   },
   "file_extension": ".py",
   "mimetype": "text/x-python",
   "name": "python",
   "nbconvert_exporter": "python",
   "pygments_lexer": "ipython3",
   "version": "3.12.2"
  }
 },
 "nbformat": 4,
 "nbformat_minor": 5
}
