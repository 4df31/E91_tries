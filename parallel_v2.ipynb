{
 "cells": [
  {
   "cell_type": "code",
   "execution_count": 1,
   "id": "3977ff5c-b911-46d8-94f8-a441aa90d568",
   "metadata": {},
   "outputs": [],
   "source": [
    "from os import cpu_count\n",
    "from qiskit_aer import AerSimulator\n",
    "from qiskit import*\n",
    "from tqdm import tqdm\n",
    "import pylatexenc\n",
    "from matplotlib import pyplot as plt\n",
    "from matplotlib.ticker import FormatStrFormatter,MultipleLocator,LinearLocator\n",
    "from matplotlib import cm\n",
    "import numpy as np\n",
    "from numpy import pi,sin,cos\n",
    "from numpy.random import randint,choice\n",
    "from qiskit.quantum_info import Statevector\n",
    "from multiprocessing import Pool\n",
    "from datetime import datetime"
   ]
  },
  {
   "cell_type": "code",
   "execution_count": 2,
   "id": "7ac2d7dc-491f-4a22-b225-70079be4fc74",
   "metadata": {},
   "outputs": [],
   "source": [
    "def parallel(vector:list,func):\n",
    "    with Pool(int(cpu_count()/2)) as p:\n",
    "        return p.map(func,vector)"
   ]
  },
  {
   "cell_type": "markdown",
   "id": "fe527e7f-baa0-4214-9c70-ef96a9bd43bd",
   "metadata": {},
   "source": [
    "## Quantum Circuits Functions"
   ]
  },
  {
   "cell_type": "code",
   "execution_count": 3,
   "id": "c9449316-1fd0-4650-8a63-515aee5f914f",
   "metadata": {},
   "outputs": [],
   "source": [
    "def circuit_singlet_creator(angle_between_analyzers:float):\n",
    "    global_shift = pi # alpha angle between analizer 0 and 1 for alice, angle between x and analizer 0 for bob\n",
    "    # ---------------------------------------\n",
    "    q = QuantumCircuit(2,2)\n",
    "    q.x(0); q.x(1); q.h(0); q.rz(relative_phase,0); q.cx(0,1) # singlet state with phase\n",
    "    q.barrier()\n",
    "    basis_alice = choice([0,1,2]); basis_bob = choice([1,2,3])\n",
    "    basis_list = {0:0,1:global_shift,2:(global_shift+angle_between_analyzers),3:3*pi/4}\n",
    "    q.ry(basis_list[basis_alice],0); q.ry(basis_list[basis_bob],1)\n",
    "    q.barrier()\n",
    "    q.measure(0,0); q.measure(1,1)\n",
    "    basis = str(basis_alice)+str(basis_bob)\n",
    "    return q,basis\n",
    "    "
   ]
  },
  {
   "cell_type": "code",
   "execution_count": 4,
   "id": "e55dacab-52d3-4944-bcae-1f646dfb8ab9",
   "metadata": {},
   "outputs": [],
   "source": [
    "def circuit_list_vector_creator(n_states:int,angle_between_analyzers:float):\n",
    "    circs_basis_vector = parallel([angle_between_analyzers for k in range(n_states)],circuit_singlet_creator)\n",
    "    return circs_basis_vector"
   ]
  },
  {
   "cell_type": "code",
   "execution_count": 5,
   "id": "8542f4ca-a68a-43f6-b55d-9d29fcdc582d",
   "metadata": {},
   "outputs": [],
   "source": [
    "def exec(q:QuantumCircuit):\n",
    "    simulator = AerSimulator()\n",
    "    circ = transpile(q, simulator)\n",
    "    result = simulator.run(circ,shots=1).result().get_counts()\n",
    "    return list(dict(result).keys())[0]"
   ]
  },
  {
   "cell_type": "markdown",
   "id": "64845e38-0f01-4312-9997-acc693673234",
   "metadata": {},
   "source": [
    "## Post Execution Functions"
   ]
  },
  {
   "cell_type": "code",
   "execution_count": 6,
   "id": "7add4ef2-f772-40bb-87ea-ee52d4c01e32",
   "metadata": {},
   "outputs": [],
   "source": [
    "def info_selector(circs_basis_vector:list):\n",
    "    N = len(circs_basis_vector)\n",
    "    circuits = list()\n",
    "    basis=list()\n",
    "    for k in range(N):\n",
    "        circuits.append(circs_basis_vector[k][0])\n",
    "        basis.append(circs_basis_vector[k][1])\n",
    "    return [circuits,basis]\n",
    "\n",
    "def probability_computation(basis_vector:list,result_vector:list):\n",
    "    N_same_basis = 0\n",
    "    N_anticorrelation = 0\n",
    "    N_states = len(basis_vector)\n",
    "    for k in range(N_states):\n",
    "        if basis_vector[k] == '11' or basis_vector[k] == '22':\n",
    "            N_same_basis += 1\n",
    "            if result_vector[k] == '10' or result_vector[k] == '01':\n",
    "                N_anticorrelation += 1\n",
    "            else:\n",
    "                pass\n",
    "        else:\n",
    "            pass\n",
    "    return N_anticorrelation/N_same_basis"
   ]
  },
  {
   "cell_type": "markdown",
   "id": "d97d2650-9f3d-4e19-a873-2a891e33cddf",
   "metadata": {},
   "source": [
    "## Run Function"
   ]
  },
  {
   "cell_type": "code",
   "execution_count": 7,
   "id": "5d15f29f-79dc-4eb4-a9fa-d494c982273a",
   "metadata": {},
   "outputs": [],
   "source": [
    "def local_run (n_states:int,angle_1_2:float):\n",
    "    info = circuit_list_vector_creator(n_states=n_states,angle_between_analyzers=angle_1_2)\n",
    "    circuit_list, basis_list = info_selector(info)\n",
    "    del info\n",
    "    result = parallel(vector=circuit_list,func=exec)\n",
    "    result = [result[k]for k in range(len(result))]\n",
    "    del circuit_list\n",
    "    fidelity = probability_computation(basis_vector=basis_list,result_vector=result)    \n",
    "    return fidelity"
   ]
  },
  {
   "cell_type": "markdown",
   "id": "e2579170-2915-459a-8ad6-753da6d3f1fd",
   "metadata": {},
   "source": [
    "## plots"
   ]
  },
  {
   "cell_type": "code",
   "execution_count": 8,
   "id": "22885e07-75c1-4232-8ebe-5bba2db2a371",
   "metadata": {},
   "outputs": [],
   "source": [
    "def plots (x:list,y_set:list,n_states:int,n_execs:int,relative_phase_set:list):\n",
    "    f,ax=plt.subplots(1)\n",
    "    n_y = len(y_set)\n",
    "    for k in range(n_y):\n",
    "        phase = round(relative_phase_set[k]/pi,1)\n",
    "        ax.plot(x/pi,y_set[k],label=f\"$\\\\phi$ = {phase}$\\\\pi$\")\n",
    "        ax.legend(bbox_to_anchor=(1.3, 1),fancybox=True,title=\"relative phase $\\\\phi$\")\n",
    "    ax.set_ylim([0,1.5])\n",
    "    ax.set_xlim([min(x/pi),max(x/pi)])\n",
    "    ax.xaxis.set_major_formatter(FormatStrFormatter('%g $\\\\pi$'))\n",
    "    ax.xaxis.set_major_locator(MultipleLocator(base=1.0))\n",
    "    ax.set_xlabel(\"angle between coincident analyzers\",fontsize=12)\n",
    "    ax.set_ylabel(\"N_anticorrelations/N_same_basis\",fontsize=12)\n",
    "    plt.title(f\"number of states transmitted = {n_states:1.0e}\\nnumber of E91 runs = {n_execs}\",fontsize=12)\n",
    "    \n",
    "    plt.show()"
   ]
  },
  {
   "cell_type": "markdown",
   "id": "2ef4b7ad-9df0-436e-8e81-65a0f80ef4b7",
   "metadata": {},
   "source": [
    "# main "
   ]
  },
  {
   "cell_type": "code",
   "execution_count": 9,
   "id": "ad757b9d-b5a8-4128-8535-83d60cc94cd5",
   "metadata": {},
   "outputs": [],
   "source": [
    "def main(n_states:int,n_execs:int):\n",
    "    fidelity = list()\n",
    "    for k in range(n_execs):\n",
    "        fidelity.append(local_run(n_states=n_states,angle_1_2=angle_between_analyzers[k]))\n",
    "    return np.array(fidelity)\n",
    "    \n",
    "def save_info_to_csv(column:list,backend_name,time_str):\n",
    "    file_name = f\"data_{backend_name}_{time_str}.csv\"\n",
    "    string = f\"{column[0]}\"\n",
    "    for data in column[1]:\n",
    "        string += f\",{data}\"\n",
    "    with open(file_name, \"a\") as file:\n",
    "        file.write(\"\\n\" + string)"
   ]
  },
  {
   "cell_type": "code",
   "execution_count": null,
   "id": "86a0a5aa-e5ea-4eec-b8e0-4105d8568abe",
   "metadata": {},
   "outputs": [
    {
     "name": "stderr",
     "output_type": "stream",
     "text": [
      "progress:   0%|                                         | 0/100 [00:00<?, ?it/s]"
     ]
    }
   ],
   "source": [
    "states = int(1.5e4)\n",
    "execs = int(1e2)\n",
    "n_phase = int(1e2)\n",
    "phase = np.linspace(0,2*pi,n_phase)\n",
    "\n",
    "global angle_between_analyzers\n",
    "angle_between_analyzers = np.linspace(0,2*pi,execs)\n",
    "\n",
    "time_now = datetime.now().strftime(\"%d_%m_%Y_%H_%M\")\n",
    "for rel_phase in tqdm(phase,desc=\"progress: \"):\n",
    "    global relative_phase\n",
    "    relative_phase=rel_phase # phase between bell pair state\n",
    "    #---------------------------------------------------\n",
    "    out = main(n_states=states,n_execs=execs)\n",
    "    if rel_phase != 0.:\n",
    "        save_info_to_csv(column=[rel_phase,out],backend_name=\"aer_simulator\",time_str=time_now)\n",
    "    else:\n",
    "        save_info_to_csv(column=['#',angle_between_analyzers],backend_name=\"aer_simulator\",time_str=time_now)\n",
    "        save_info_to_csv(column=[rel_phase,out],backend_name=\"aer_simulator\",time_str=time_now)\n",
    "    #---------------------------------------------------"
   ]
  },
  {
   "cell_type": "markdown",
   "id": "6fe2e4f2-72f2-4d2d-bac0-4a9f306a50ea",
   "metadata": {},
   "source": [
    "# Plots"
   ]
  },
  {
   "cell_type": "code",
   "execution_count": null,
   "id": "d54dba62-dcba-4a5e-a577-eb9fe08d3f4d",
   "metadata": {},
   "outputs": [],
   "source": [
    "plots(x=angle,y_set=result,n_states=states,n_execs=execs,relative_phase_set=phase)\n"
   ]
  },
  {
   "cell_type": "code",
   "execution_count": null,
   "id": "0f50e953-00aa-4f31-bc24-fd83711d269a",
   "metadata": {},
   "outputs": [],
   "source": [
    "fg = plt.figure(figsize=(8,8))\n",
    "plt.imshow(result, cmap='Blues', interpolation='nearest')\n",
    "plt.colorbar()\n",
    "plt.contour(result)\n",
    "\n",
    "plt.show()"
   ]
  },
  {
   "cell_type": "code",
   "execution_count": null,
   "id": "7c32c31e-d57f-458b-a0d8-411aa4e8ef5c",
   "metadata": {},
   "outputs": [],
   "source": [
    "X,Y = np.meshgrid(angle/pi,phase/pi)\n",
    "f,axs = plt.subplots(subplot_kw={'projection':'3d'},figsize=(8,8))\n",
    "surf = axs.plot_surface(X,Y,np.array(result),cmap=cm.magma)\n",
    "axs.set_xlabel(\"Angle between polarizers\",fontsize=12)\n",
    "axs.set_ylabel(\"Relative Phase of Bell State\",fontsize=12)\n",
    "axs.set_zlabel(\"N_anticorrelations/N_same_basis\",fontsize=12)\n",
    "axs.set_zlim([0,1.3])\n",
    "axs.xaxis.set_major_formatter(FormatStrFormatter('%g $\\\\pi$'))\n",
    "axs.xaxis.set_major_locator(MultipleLocator(base=1.0))\n",
    "axs.yaxis.set_major_formatter(FormatStrFormatter('%g $\\\\pi$'))\n",
    "axs.yaxis.set_major_locator(MultipleLocator(base=1.0))\n",
    "f.colorbar(surf, shrink=0.5, aspect=5)\n",
    "plt.show()"
   ]
  }
 ],
 "metadata": {
  "kernelspec": {
   "display_name": "Python 3 (ipykernel)",
   "language": "python",
   "name": "python3"
  },
  "language_info": {
   "codemirror_mode": {
    "name": "ipython",
    "version": 3
   },
   "file_extension": ".py",
   "mimetype": "text/x-python",
   "name": "python",
   "nbconvert_exporter": "python",
   "pygments_lexer": "ipython3",
   "version": "3.12.2"
  }
 },
 "nbformat": 4,
 "nbformat_minor": 5
}
