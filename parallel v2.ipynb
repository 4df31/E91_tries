{
 "cells": [
  {
   "cell_type": "code",
   "execution_count": 109,
   "id": "3977ff5c-b911-46d8-94f8-a441aa90d568",
   "metadata": {},
   "outputs": [],
   "source": [
    "from os import cpu_count\n",
    "from qiskit_aer import AerSimulator\n",
    "from qiskit import*\n",
    "from tqdm import tqdm\n",
    "import pylatexenc\n",
    "from matplotlib import pyplot as plt\n",
    "import numpy as np\n",
    "from numpy import pi,sin,cos\n",
    "from numpy.random import randint,choice\n",
    "from qiskit.quantum_info import Statevector\n",
    "from multiprocessing import Pool"
   ]
  },
  {
   "cell_type": "code",
   "execution_count": 110,
   "id": "7ac2d7dc-491f-4a22-b225-70079be4fc74",
   "metadata": {},
   "outputs": [],
   "source": [
    "def parallel(vector:list,func):\n",
    "    with Pool(cpu_count()) as p:\n",
    "        return p.map(func,vector)"
   ]
  },
  {
   "cell_type": "markdown",
   "id": "fe527e7f-baa0-4214-9c70-ef96a9bd43bd",
   "metadata": {},
   "source": [
    "## Quantum Circuits Functions"
   ]
  },
  {
   "cell_type": "code",
   "execution_count": 111,
   "id": "c9449316-1fd0-4650-8a63-515aee5f914f",
   "metadata": {},
   "outputs": [],
   "source": [
    "def circuit_singlet_creator(angle_between_analyzers:float):\n",
    "    relative_phase=pi # phase between bell pair state\n",
    "    global_shift = pi/4 # alpha angle between analizer 0 and 1 for alice, angle between x and analizer 0 for bob\n",
    "    # ---------------------------------------\n",
    "    q = QuantumCircuit(2,2)\n",
    "    q.x(0); q.x(1); q.h(0); q.rz(relative_phase,0); q.cx(0,1) # singlet state with phase\n",
    "    q.barrier()\n",
    "    basis_alice = choice([0,1,2]); basis_bob = choice([1,2,3])\n",
    "    basis_list = {0:0,1:global_shift,2:(global_shift+angle_between_analyzers),3:3*pi/4}\n",
    "    q.ry(basis_list[basis_alice],0); q.ry(basis_list[basis_bob],1)\n",
    "    q.barrier()\n",
    "    q.measure(0,0); q.measure(1,1)\n",
    "    basis = str(basis_alice)+str(basis_bob)\n",
    "    return q,basis\n",
    "    "
   ]
  },
  {
   "cell_type": "code",
   "execution_count": 112,
   "id": "e55dacab-52d3-4944-bcae-1f646dfb8ab9",
   "metadata": {},
   "outputs": [],
   "source": [
    "def circuit_list_vector_creator(n_states:int,angle_between_analyzers:float):\n",
    "    circs_basis_vector = parallel([angle_between_analyzers for k in range(n_states)],circuit_singlet_creator)\n",
    "    return circs_basis_vector"
   ]
  },
  {
   "cell_type": "code",
   "execution_count": 113,
   "id": "8542f4ca-a68a-43f6-b55d-9d29fcdc582d",
   "metadata": {},
   "outputs": [],
   "source": [
    "def exec(q:QuantumCircuit):\n",
    "    simulator = AerSimulator()\n",
    "    circ = transpile(q, simulator)\n",
    "    result = simulator.run(circ,shots=1).result().get_counts()\n",
    "    return list(dict(result).keys())[0]"
   ]
  },
  {
   "cell_type": "markdown",
   "id": "64845e38-0f01-4312-9997-acc693673234",
   "metadata": {},
   "source": [
    "## Post Execution Functions"
   ]
  },
  {
   "cell_type": "code",
   "execution_count": 114,
   "id": "7add4ef2-f772-40bb-87ea-ee52d4c01e32",
   "metadata": {},
   "outputs": [],
   "source": [
    "def info_selector(circs_basis_vector:list):\n",
    "    N = len(circs_basis_vector)\n",
    "    circuits = list()\n",
    "    basis=list()\n",
    "    for k in range(N):\n",
    "        circuits.append(circs_basis_vector[k][0])\n",
    "        basis.append(circs_basis_vector[k][1])\n",
    "    return [circuits,basis]\n",
    "\n",
    "def probability_computation(basis_vector:list,result_vector:list):\n",
    "    N_same_basis = 0\n",
    "    N_anticorrelation = 0\n",
    "    N_states = len(basis_vector)\n",
    "    for k in range(N_states):\n",
    "        if basis_vector[k] == '11' or basis_vector[k] == '22':\n",
    "            N_same_basis += 1\n",
    "            if result_vector[k] == '10' or result_vector[k] == '01':\n",
    "                N_anticorrelation += 1\n",
    "            else:\n",
    "                pass\n",
    "        else:\n",
    "            pass\n",
    "    return N_anticorrelation/N_same_basis"
   ]
  },
  {
   "cell_type": "markdown",
   "id": "d97d2650-9f3d-4e19-a873-2a891e33cddf",
   "metadata": {},
   "source": [
    "## Run Function"
   ]
  },
  {
   "cell_type": "code",
   "execution_count": 120,
   "id": "5d15f29f-79dc-4eb4-a9fa-d494c982273a",
   "metadata": {},
   "outputs": [],
   "source": [
    "def local_run (n_states:int,angle_1_2:float):\n",
    "    info = circuit_list_vector_creator(n_states=n_states,angle_between_analyzers=angle_1_2)\n",
    "    circuit_list, basis_list = info_selector(info)\n",
    "    del info\n",
    "    result = parallel(vector=circuit_list,func=exec)\n",
    "    result = [result[k]for k in range(len(result))]\n",
    "    del circuit_list\n",
    "    fidelity = probability_computation(basis_vector=basis_list,result_vector=result)    \n",
    "    return fidelity"
   ]
  },
  {
   "cell_type": "code",
   "execution_count": 123,
   "id": "ad757b9d-b5a8-4128-8535-83d60cc94cd5",
   "metadata": {},
   "outputs": [],
   "source": [
    "def main(n_states:int,n_execs:int):\n",
    "    angle_between_analyzers = np.linspace(0,pi/4,n_execs)\n",
    "    fidelity = list()\n",
    "    for k in tqdm(range(n_execs)):\n",
    "        fidelity.append(local_run(n_states=n_states,angle_1_2=angle_between_analyzers[k]))\n",
    "    plt.plot(angle_between_analyzers,fidelity)\n",
    "    plt.ylim([0,1])\n",
    "    plt.xlim([0,2*pi])\n",
    "    plt.xlabel(\"angle between coincident analyzers\")\n",
    "    plt.ylabel(\"N_anticorrelations/N_same_basis\")\n",
    "    plt.show()"
   ]
  },
  {
   "cell_type": "markdown",
   "id": "2ef4b7ad-9df0-436e-8e81-65a0f80ef4b7",
   "metadata": {},
   "source": [
    "# main "
   ]
  },
  {
   "cell_type": "code",
   "execution_count": 124,
   "id": "86a0a5aa-e5ea-4eec-b8e0-4105d8568abe",
   "metadata": {},
   "outputs": [
    {
     "name": "stderr",
     "output_type": "stream",
     "text": [
      "100%|█████████████████████████████████████████████████████████████████████████████████████████████████| 50/50 [05:28<00:00,  6.56s/it]\n"
     ]
    },
    {
     "data": {
      "image/png": "[encoded data removed]",
      "text/plain": [
       "<Figure size 640x480 with 1 Axes>"
      ]
     },
     "metadata": {},
     "output_type": "display_data"
    }
   ],
   "source": [
    "states = int(1e3)\n",
    "execs = int(5e1)\n",
    "main(n_states=states,n_execs=execs)"
   ]
  },
  {
   "cell_type": "code",
   "execution_count": null,
   "id": "3b2ee548-65a5-4ef4-9193-aa60a5df7ff7",
   "metadata": {},
   "outputs": [],
   "source": []
  },
  {
   "cell_type": "code",
   "execution_count": null,
   "id": "08978ea7-880f-421c-a977-c0c4261b027c",
   "metadata": {},
   "outputs": [],
   "source": []
  }
 ],
 "metadata": {
  "kernelspec": {
   "display_name": "Python 3 (ipykernel)",
   "language": "python",
   "name": "python3"
  },
  "language_info": {
   "codemirror_mode": {
    "name": "ipython",
    "version": 3
   },
   "file_extension": ".py",
   "mimetype": "text/x-python",
   "name": "python",
   "nbconvert_exporter": "python",
   "pygments_lexer": "ipython3",
   "version": "3.12.2"
  }
 },
 "nbformat": 4,
 "nbformat_minor": 5
}
